{
 "cells": [
  {
   "cell_type": "code",
   "execution_count": 2,
   "metadata": {},
   "outputs": [],
   "source": [
    "import numpy as np\n",
    "import re\n",
    "import pandas as pd\n",
    "import matplotlib.pyplot as plt\n",
    "import seaborn as sns\n",
    "sns.set()\n",
    "from pandas_profiling import ProfileReport\n",
    "\n",
    "from matplotlib import cm "
   ]
  },
  {
   "cell_type": "code",
   "execution_count": 29,
   "metadata": {},
   "outputs": [],
   "source": [
    "#load original lendingclub dataset\n",
    "loan_data = pd.read_csv('accepted_2007_to_2018Q4.csv')"
   ]
  },
  {
   "cell_type": "code",
   "execution_count": 63,
   "metadata": {},
   "outputs": [
    {
     "data": {
      "text/plain": [
       "(2260701, 151)"
      ]
     },
     "execution_count": 63,
     "metadata": {},
     "output_type": "execute_result"
    }
   ],
   "source": [
    "loan_data.shape\n",
    "df = loan_data.copy()\n",
    "df.shape"
   ]
  },
  {
   "cell_type": "code",
   "execution_count": 33,
   "metadata": {
    "scrolled": true
   },
   "outputs": [
    {
     "data": {
      "text/plain": [
       "(2260701, 151)"
      ]
     },
     "execution_count": 33,
     "metadata": {},
     "output_type": "execute_result"
    }
   ],
   "source": [
    "#drop duplicate records\n",
    "df.drop_duplicates(inplace = True)\n",
    "df.shape"
   ]
  },
  {
   "cell_type": "code",
   "execution_count": 64,
   "metadata": {},
   "outputs": [
    {
     "data": {
      "text/plain": [
       "(1765459, 151)"
      ]
     },
     "execution_count": 64,
     "metadata": {},
     "output_type": "execute_result"
    }
   ],
   "source": [
    "# The model is to predict the loan defaults from the loans with at least 24 monthes long, so 2018 data were excluded from the analysis.\n",
    "df = df.loc[:,:][df['issue_d'].str[-4:] != '2018']\n",
    "df.shape"
   ]
  },
  {
   "cell_type": "code",
   "execution_count": 69,
   "metadata": {},
   "outputs": [
    {
     "data": {
      "text/plain": [
       "2017    443579\n",
       "2016    434407\n",
       "2015    421095\n",
       "2014    235629\n",
       "2013    134814\n",
       "2012     53367\n",
       "2011     21721\n",
       "2010     12537\n",
       "2009      5281\n",
       "2008      2393\n",
       "2007       603\n",
       "Name: issue_y, dtype: int64"
      ]
     },
     "execution_count": 69,
     "metadata": {},
     "output_type": "execute_result"
    }
   ],
   "source": [
    "df['issue_y'] = df['issue_d'].str[-4:]\n",
    "df['issue_y'].value_counts()"
   ]
  },
  {
   "cell_type": "code",
   "execution_count": 42,
   "metadata": {},
   "outputs": [
    {
     "data": {
      "text/plain": [
       "Fully Paid                                             1029307\n",
       "Current                                                 451136\n",
       "Charged Off                                             259692\n",
       "Late (31-120 days)                                       14246\n",
       "In Grace Period                                           5517\n",
       "Late (16-30 days)                                         2746\n",
       "Does not meet the credit policy. Status:Fully Paid        1988\n",
       "Does not meet the credit policy. Status:Charged Off        761\n",
       "Default                                                     33\n",
       "Name: loan_status, dtype: int64"
      ]
     },
     "execution_count": 42,
     "metadata": {},
     "output_type": "execute_result"
    }
   ],
   "source": [
    "df['loan_status'].value_counts()"
   ]
  },
  {
   "cell_type": "code",
   "execution_count": 70,
   "metadata": {},
   "outputs": [
    {
     "data": {
      "text/plain": [
       "0    1490727\n",
       "1     274732\n",
       "Name: good_bad, dtype: int64"
      ]
     },
     "execution_count": 70,
     "metadata": {},
     "output_type": "execute_result"
    }
   ],
   "source": [
    "#create outcome label 'good_bad' from feature 'loan_status'\n",
    "df['good_bad'] = np.where(df['loan_status'].isin(['Charged Off', 'Default','Does not meet the credit policy. Status:Charged Off','Late (31-120 days)']), 1, 0) \n",
    "df['good_bad'].value_counts()"
   ]
  },
  {
   "cell_type": "code",
   "execution_count": 49,
   "metadata": {},
   "outputs": [
    {
     "data": {
      "text/html": [
       "<div>\n",
       "<style scoped>\n",
       "    .dataframe tbody tr th:only-of-type {\n",
       "        vertical-align: middle;\n",
       "    }\n",
       "\n",
       "    .dataframe tbody tr th {\n",
       "        vertical-align: top;\n",
       "    }\n",
       "\n",
       "    .dataframe thead th {\n",
       "        text-align: right;\n",
       "    }\n",
       "</style>\n",
       "<table border=\"1\" class=\"dataframe\">\n",
       "  <thead>\n",
       "    <tr style=\"text-align: right;\">\n",
       "      <th></th>\n",
       "      <th>bad</th>\n",
       "      <th>total_count</th>\n",
       "      <th>bad_rate</th>\n",
       "    </tr>\n",
       "    <tr>\n",
       "      <th>issue_y</th>\n",
       "      <th></th>\n",
       "      <th></th>\n",
       "      <th></th>\n",
       "    </tr>\n",
       "  </thead>\n",
       "  <tbody>\n",
       "    <tr>\n",
       "      <td>2007</td>\n",
       "      <td>158</td>\n",
       "      <td>603</td>\n",
       "      <td>0.262023</td>\n",
       "    </tr>\n",
       "    <tr>\n",
       "      <td>2008</td>\n",
       "      <td>496</td>\n",
       "      <td>2393</td>\n",
       "      <td>0.207271</td>\n",
       "    </tr>\n",
       "    <tr>\n",
       "      <td>2009</td>\n",
       "      <td>723</td>\n",
       "      <td>5281</td>\n",
       "      <td>0.136906</td>\n",
       "    </tr>\n",
       "    <tr>\n",
       "      <td>2010</td>\n",
       "      <td>1757</td>\n",
       "      <td>12537</td>\n",
       "      <td>0.140145</td>\n",
       "    </tr>\n",
       "    <tr>\n",
       "      <td>2011</td>\n",
       "      <td>3297</td>\n",
       "      <td>21721</td>\n",
       "      <td>0.151789</td>\n",
       "    </tr>\n",
       "    <tr>\n",
       "      <td>2012</td>\n",
       "      <td>8644</td>\n",
       "      <td>53367</td>\n",
       "      <td>0.161973</td>\n",
       "    </tr>\n",
       "    <tr>\n",
       "      <td>2013</td>\n",
       "      <td>21027</td>\n",
       "      <td>134814</td>\n",
       "      <td>0.155970</td>\n",
       "    </tr>\n",
       "    <tr>\n",
       "      <td>2014</td>\n",
       "      <td>41496</td>\n",
       "      <td>235629</td>\n",
       "      <td>0.176107</td>\n",
       "    </tr>\n",
       "    <tr>\n",
       "      <td>2015</td>\n",
       "      <td>77163</td>\n",
       "      <td>421095</td>\n",
       "      <td>0.183244</td>\n",
       "    </tr>\n",
       "    <tr>\n",
       "      <td>2016</td>\n",
       "      <td>72798</td>\n",
       "      <td>434407</td>\n",
       "      <td>0.167580</td>\n",
       "    </tr>\n",
       "    <tr>\n",
       "      <td>2017</td>\n",
       "      <td>47173</td>\n",
       "      <td>443579</td>\n",
       "      <td>0.106346</td>\n",
       "    </tr>\n",
       "  </tbody>\n",
       "</table>\n",
       "</div>"
      ],
      "text/plain": [
       "           bad  total_count  bad_rate\n",
       "issue_y                              \n",
       "2007       158          603  0.262023\n",
       "2008       496         2393  0.207271\n",
       "2009       723         5281  0.136906\n",
       "2010      1757        12537  0.140145\n",
       "2011      3297        21721  0.151789\n",
       "2012      8644        53367  0.161973\n",
       "2013     21027       134814  0.155970\n",
       "2014     41496       235629  0.176107\n",
       "2015     77163       421095  0.183244\n",
       "2016     72798       434407  0.167580\n",
       "2017     47173       443579  0.106346"
      ]
     },
     "execution_count": 49,
     "metadata": {},
     "output_type": "execute_result"
    }
   ],
   "source": [
    "# table for bad_rate broken down by year\n",
    "\n",
    "def bad_rate_by_cat(df, groupvar, dependcar):\n",
    "    bad = df.groupby(groupvar)[dependcar].sum()\n",
    "    count = df.groupby(groupvar)[dependcar].count()\n",
    "    rate = df.groupby(groupvar)[dependcar].sum()/df.groupby(groupvar)[dependcar].count()\n",
    "    bad_rate_by_cat = pd.concat((bad, count,rate), axis =1)\n",
    "    bad_rate_by_cat.columns =  ['bad', 'total_count', 'bad_rate'] \n",
    "    \n",
    "    return bad_rate_by_cat\n",
    "\n",
    "bad_rate_by_cat(df, 'issue_y', 'good_bad')"
   ]
  },
  {
   "cell_type": "code",
   "execution_count": 71,
   "metadata": {},
   "outputs": [
    {
     "data": {
      "text/plain": [
       "member_id                                     1.0000\n",
       "orig_projected_additional_accrued_interest    0.9953\n",
       "hardship_amount                               0.9940\n",
       "hardship_type                                 0.9940\n",
       "hardship_reason                               0.9940\n",
       "hardship_status                               0.9940\n",
       "deferral_term                                 0.9940\n",
       "hardship_start_date                           0.9940\n",
       "hardship_end_date                             0.9940\n",
       "payment_plan_start_date                       0.9940\n",
       "hardship_dpd                                  0.9940\n",
       "hardship_loan_status                          0.9940\n",
       "hardship_length                               0.9940\n",
       "hardship_payoff_balance_amount                0.9940\n",
       "hardship_last_payment_amount                  0.9940\n",
       "sec_app_mths_since_last_major_derog           0.9923\n",
       "settlement_date                               0.9809\n",
       "settlement_term                               0.9809\n",
       "settlement_percentage                         0.9809\n",
       "settlement_amount                             0.9809\n",
       "settlement_status                             0.9809\n",
       "debt_settlement_flag_date                     0.9809\n",
       "sec_app_revol_util                            0.9783\n",
       "sec_app_fico_range_low                        0.9779\n",
       "revol_bal_joint                               0.9779\n",
       "sec_app_fico_range_high                       0.9779\n",
       "sec_app_earliest_cr_line                      0.9779\n",
       "sec_app_inq_last_6mths                        0.9779\n",
       "sec_app_mort_acc                              0.9779\n",
       "sec_app_open_acc                              0.9779\n",
       "sec_app_num_rev_accts                         0.9779\n",
       "sec_app_open_act_il                           0.9779\n",
       "sec_app_chargeoff_within_12_mths              0.9779\n",
       "sec_app_collections_12_mths_ex_med            0.9779\n",
       "dti_joint                                     0.9707\n",
       "annual_inc_joint                              0.9707\n",
       "verification_status_joint                     0.9707\n",
       "desc                                          0.9286\n",
       "mths_since_last_record                        0.8322\n",
       "mths_since_recent_bc_dlq                      0.7612\n",
       "mths_since_last_major_derog                   0.7361\n",
       "next_pymnt_d                                  0.7301\n",
       "mths_since_recent_revol_delinq                0.6615\n",
       "il_util                                       0.5597\n",
       "mths_since_rcnt_il                            0.5050\n",
       "mths_since_last_delinq                        0.4995\n",
       "all_util                                      0.4907\n",
       "open_act_il                                   0.4906\n",
       "open_il_12m                                   0.4906\n",
       "open_il_24m                                   0.4906\n",
       "open_acc_6m                                   0.4906\n",
       "total_bal_il                                  0.4906\n",
       "open_rv_12m                                   0.4906\n",
       "open_rv_24m                                   0.4906\n",
       "max_bal_bc                                    0.4906\n",
       "inq_fi                                        0.4906\n",
       "inq_last_12m                                  0.4906\n",
       "total_cu_tl                                   0.4906\n",
       "mths_since_recent_inq                         0.1326\n",
       "num_tl_120dpd_2m                              0.0800\n",
       "mo_sin_old_il_acct                            0.0684\n",
       "emp_title                                     0.0636\n",
       "emp_length                                    0.0594\n",
       "pct_tl_nvr_dlq                                0.0399\n",
       "num_tl_90g_dpd_24m                            0.0398\n",
       "num_op_rev_tl                                 0.0398\n",
       "num_rev_accts                                 0.0398\n",
       "num_rev_tl_bal_gt_0                           0.0398\n",
       "num_tl_30dpd                                  0.0398\n",
       "num_actv_bc_tl                                0.0398\n",
       "num_tl_op_past_12m                            0.0398\n",
       "total_rev_hi_lim                              0.0398\n",
       "tot_cur_bal                                   0.0398\n",
       "num_accts_ever_120_pd                         0.0398\n",
       "tot_hi_cred_lim                               0.0398\n",
       "total_il_high_credit_limit                    0.0398\n",
       "num_il_tl                                     0.0398\n",
       "tot_coll_amt                                  0.0398\n",
       "num_bc_tl                                     0.0398\n",
       "mo_sin_old_rev_tl_op                          0.0398\n",
       "num_actv_rev_tl                               0.0398\n",
       "mo_sin_rcnt_tl                                0.0398\n",
       "avg_cur_bal                                   0.0398\n",
       "mo_sin_rcnt_rev_tl_op                         0.0398\n",
       "bc_util                                       0.0393\n",
       "percent_bc_gt_75                              0.0390\n",
       "bc_open_to_buy                                0.0387\n",
       "mths_since_recent_bc                          0.0381\n",
       "num_bc_sats                                   0.0332\n",
       "num_sats                                      0.0332\n",
       "acc_open_past_24mths                          0.0284\n",
       "mort_acc                                      0.0284\n",
       "total_bal_ex_mort                             0.0284\n",
       "total_bc_limit                                0.0284\n",
       "title                                         0.0132\n",
       "last_pymnt_d                                  0.0010\n",
       "pub_rec_bankruptcies                          0.0008\n",
       "revol_util                                    0.0007\n",
       "dti                                           0.0003\n",
       "last_credit_pull_d                            0.0001\n",
       "chargeoff_within_12_mths                      0.0001\n",
       "collections_12_mths_ex_med                    0.0001\n",
       "tax_liens                                     0.0001\n",
       "addr_state                                    0.0000\n",
       "url                                           0.0000\n",
       "delinq_2yrs                                   0.0000\n",
       "funded_amnt                                   0.0000\n",
       "zip_code                                      0.0000\n",
       "loan_amnt                                     0.0000\n",
       "purpose                                       0.0000\n",
       "funded_amnt_inv                               0.0000\n",
       "home_ownership                                0.0000\n",
       "pymnt_plan                                    0.0000\n",
       "loan_status                                   0.0000\n",
       "issue_d                                       0.0000\n",
       "verification_status                           0.0000\n",
       "annual_inc                                    0.0000\n",
       "fico_range_low                                0.0000\n",
       "term                                          0.0000\n",
       "sub_grade                                     0.0000\n",
       "grade                                         0.0000\n",
       "installment                                   0.0000\n",
       "int_rate                                      0.0000\n",
       "earliest_cr_line                              0.0000\n",
       "good_bad                                      0.0000\n",
       "fico_range_high                               0.0000\n",
       "inq_last_6mths                                0.0000\n",
       "debt_settlement_flag                          0.0000\n",
       "disbursement_method                           0.0000\n",
       "hardship_flag                                 0.0000\n",
       "delinq_amnt                                   0.0000\n",
       "issue_y                                       0.0000\n",
       "acc_now_delinq                                0.0000\n",
       "application_type                              0.0000\n",
       "policy_code                                   0.0000\n",
       "last_fico_range_low                           0.0000\n",
       "last_fico_range_high                          0.0000\n",
       "last_pymnt_amnt                               0.0000\n",
       "collection_recovery_fee                       0.0000\n",
       "recoveries                                    0.0000\n",
       "total_rec_late_fee                            0.0000\n",
       "total_rec_int                                 0.0000\n",
       "total_rec_prncp                               0.0000\n",
       "total_pymnt_inv                               0.0000\n",
       "total_pymnt                                   0.0000\n",
       "out_prncp_inv                                 0.0000\n",
       "out_prncp                                     0.0000\n",
       "initial_list_status                           0.0000\n",
       "total_acc                                     0.0000\n",
       "revol_bal                                     0.0000\n",
       "pub_rec                                       0.0000\n",
       "open_acc                                      0.0000\n",
       "id                                            0.0000\n",
       "dtype: float64"
      ]
     },
     "execution_count": 71,
     "metadata": {},
     "output_type": "execute_result"
    }
   ],
   "source": [
    "# percentage of missing values for each feature\n",
    "null_var =( df.isnull().sum()/len(df)).round(4).sort_values(ascending=False)\n",
    "null_var"
   ]
  },
  {
   "cell_type": "code",
   "execution_count": 72,
   "metadata": {
    "scrolled": false
   },
   "outputs": [
    {
     "data": {
      "text/plain": [
       "45"
      ]
     },
     "execution_count": 72,
     "metadata": {},
     "output_type": "execute_result"
    }
   ],
   "source": [
    "# features with more than 50% missing values\n",
    "feature_del_lst = (null_var[null_var > 0.5]).index.to_list()\n",
    "len(feature_del_lst)"
   ]
  },
  {
   "cell_type": "code",
   "execution_count": null,
   "metadata": {},
   "outputs": [],
   "source": [
    "# delete features with more than 50% missing values\n",
    "df.drop(feature_del_lst, axis=1 , inplace = True)"
   ]
  },
  {
   "cell_type": "code",
   "execution_count": 76,
   "metadata": {},
   "outputs": [
    {
     "data": {
      "text/plain": [
       "(1765459, 108)"
      ]
     },
     "execution_count": 76,
     "metadata": {},
     "output_type": "execute_result"
    }
   ],
   "source": [
    "df.shape"
   ]
  },
  {
   "cell_type": "code",
   "execution_count": 94,
   "metadata": {},
   "outputs": [
    {
     "data": {
      "text/plain": [
       "(1765459, 91)"
      ]
     },
     "execution_count": 94,
     "metadata": {},
     "output_type": "execute_result"
    }
   ],
   "source": [
    "# delete input features containing characteristic resulting from defaulted loans \n",
    "remove_lst = ['loan_status',\n",
    " 'num_tl_120dpd_2m',\n",
    " 'collection_recovery_fee',\n",
    " 'last_pymnt_d',\n",
    " 'collections_12_mths_ex_med',\n",
    " 'delinq_amnt',\n",
    " 'emp_title',\n",
    " 'recoveries',\n",
    " 'hardship_flag',\n",
    " 'title',\n",
    " 'chargeoff_within_12_mths',\n",
    " 'num_tl_30dpd',\n",
    " 'acc_now_delinq',\n",
    " 'num_tl_90g_dpd_24m',\n",
    " 'issue_y',\n",
    " 'debt_settlement_flag',\n",
    " 'tot_coll_amt']\n",
    "\n",
    "df.drop(remove_lst, axis=1 , inplace = True)\n",
    "df.shape"
   ]
  },
  {
   "cell_type": "code",
   "execution_count": 97,
   "metadata": {},
   "outputs": [
    {
     "data": {
      "text/plain": [
       "mths_since_last_delinq        0.4995\n",
       "all_util                      0.4907\n",
       "inq_fi                        0.4906\n",
       "total_bal_il                  0.4906\n",
       "inq_last_12m                  0.4906\n",
       "total_cu_tl                   0.4906\n",
       "max_bal_bc                    0.4906\n",
       "open_rv_12m                   0.4906\n",
       "open_rv_24m                   0.4906\n",
       "open_il_24m                   0.4906\n",
       "open_il_12m                   0.4906\n",
       "open_act_il                   0.4906\n",
       "open_acc_6m                   0.4906\n",
       "mths_since_recent_inq         0.1326\n",
       "mo_sin_old_il_acct            0.0684\n",
       "emp_length                    0.0594\n",
       "pct_tl_nvr_dlq                0.0399\n",
       "mo_sin_rcnt_tl                0.0398\n",
       "total_rev_hi_lim              0.0398\n",
       "avg_cur_bal                   0.0398\n",
       "mo_sin_old_rev_tl_op          0.0398\n",
       "mo_sin_rcnt_rev_tl_op         0.0398\n",
       "tot_cur_bal                   0.0398\n",
       "num_tl_op_past_12m            0.0398\n",
       "tot_hi_cred_lim               0.0398\n",
       "num_rev_tl_bal_gt_0           0.0398\n",
       "num_rev_accts                 0.0398\n",
       "num_op_rev_tl                 0.0398\n",
       "total_il_high_credit_limit    0.0398\n",
       "num_il_tl                     0.0398\n",
       "num_bc_tl                     0.0398\n",
       "num_actv_rev_tl               0.0398\n",
       "num_actv_bc_tl                0.0398\n",
       "num_accts_ever_120_pd         0.0398\n",
       "bc_util                       0.0393\n",
       "percent_bc_gt_75              0.0390\n",
       "bc_open_to_buy                0.0387\n",
       "mths_since_recent_bc          0.0381\n",
       "num_bc_sats                   0.0332\n",
       "num_sats                      0.0332\n",
       "total_bc_limit                0.0284\n",
       "total_bal_ex_mort             0.0284\n",
       "mort_acc                      0.0284\n",
       "acc_open_past_24mths          0.0284\n",
       "pub_rec_bankruptcies          0.0008\n",
       "revol_util                    0.0007\n",
       "dti                           0.0003\n",
       "tax_liens                     0.0001\n",
       "last_credit_pull_d            0.0001\n",
       "dtype: float64"
      ]
     },
     "execution_count": 97,
     "metadata": {},
     "output_type": "execute_result"
    }
   ],
   "source": [
    "# update: percentage of missing value for each feature\n",
    "null_var1 =(( df.isnull().sum()/len(df)).round(4).sort_values(ascending=False))\n",
    "feature_missing_lst = (null_var1[null_var1 > 0])\n",
    "# len(feature_missing_lst)  total 49 features having missing value\n",
    "feature_missing_lst"
   ]
  },
  {
   "cell_type": "code",
   "execution_count": null,
   "metadata": {},
   "outputs": [],
   "source": []
  }
 ],
 "metadata": {
  "kernelspec": {
   "display_name": "Python 3",
   "language": "python",
   "name": "python3"
  },
  "language_info": {
   "codemirror_mode": {
    "name": "ipython",
    "version": 3
   },
   "file_extension": ".py",
   "mimetype": "text/x-python",
   "name": "python",
   "nbconvert_exporter": "python",
   "pygments_lexer": "ipython3",
   "version": "3.7.4"
  }
 },
 "nbformat": 4,
 "nbformat_minor": 2
}
